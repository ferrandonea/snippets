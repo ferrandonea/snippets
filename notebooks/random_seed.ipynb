{
 "cells": [
  {
   "cell_type": "code",
   "execution_count": 2,
   "metadata": {},
   "outputs": [],
   "source": [
    "import random\n",
    "\n",
    "random.seed()\n",
    "\n",
    "def print_random():\n",
    "    for i in range(5):\n",
    "        print (random.randint(0,100), end = \" \")\n",
    "        "
   ]
  },
  {
   "cell_type": "code",
   "execution_count": 6,
   "metadata": {},
   "outputs": [
    {
     "name": "stdout",
     "output_type": "stream",
     "text": [
      "74 84 56 45 79  \n",
      "68 18 45 48 92 "
     ]
    }
   ],
   "source": [
    "print_random()\n",
    "print (\" \")\n",
    "print_random()"
   ]
  },
  {
   "cell_type": "markdown",
   "metadata": {},
   "source": [
    "Cada vez que corremos random va a tomar números distintos, pero puedo fijar eso con seed"
   ]
  },
  {
   "cell_type": "code",
   "execution_count": 9,
   "metadata": {},
   "outputs": [],
   "source": [
    "%reset"
   ]
  },
  {
   "cell_type": "code",
   "execution_count": 13,
   "metadata": {},
   "outputs": [
    {
     "name": "stdout",
     "output_type": "stream",
     "text": [
      "17 72 97 8 32 "
     ]
    }
   ],
   "source": [
    "import random\n",
    "\n",
    "random.seed(1)\n",
    "\n",
    "def print_random():\n",
    "    for i in range(5):\n",
    "        print (random.randint(0,100), end = \" \")\n",
    "print_random()\n",
    "# siempre va a generar los mismos números todas las veces que lo corra"
   ]
  },
  {
   "cell_type": "code",
   "execution_count": null,
   "metadata": {},
   "outputs": [],
   "source": []
  },
  {
   "cell_type": "code",
   "execution_count": null,
   "metadata": {},
   "outputs": [],
   "source": []
  }
 ],
 "metadata": {
  "kernelspec": {
   "display_name": "Python 3.11.0 64-bit ('3.11.0')",
   "language": "python",
   "name": "python3"
  },
  "language_info": {
   "codemirror_mode": {
    "name": "ipython",
    "version": 3
   },
   "file_extension": ".py",
   "mimetype": "text/x-python",
   "name": "python",
   "nbconvert_exporter": "python",
   "pygments_lexer": "ipython3",
   "version": "3.11.0"
  },
  "orig_nbformat": 4,
  "vscode": {
   "interpreter": {
    "hash": "211026dce1e7ac162a134d72f9ed00dc0eec95aa1aed0ec61279d0aeb17c1116"
   }
  }
 },
 "nbformat": 4,
 "nbformat_minor": 2
}
