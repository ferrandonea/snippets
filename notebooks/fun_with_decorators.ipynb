{
 "cells": [
  {
   "cell_type": "markdown",
   "metadata": {},
   "source": [
    "# Fun con decoradores\n",
    "\n",
    "Un decorador básico"
   ]
  },
  {
   "cell_type": "code",
   "execution_count": 1,
   "metadata": {},
   "outputs": [],
   "source": [
    "def midecorador(function):\n",
    "    def wrapper():\n",
    "        print (\"INICIO\")\n",
    "        function()\n",
    "        print (\"FIN\")\n",
    "    return wrapper"
   ]
  },
  {
   "cell_type": "code",
   "execution_count": 2,
   "metadata": {},
   "outputs": [],
   "source": [
    "def hola_mundo():\n",
    "    print (f\"Hola Mundo\")"
   ]
  },
  {
   "cell_type": "code",
   "execution_count": 3,
   "metadata": {},
   "outputs": [
    {
     "name": "stdout",
     "output_type": "stream",
     "text": [
      "INICIO\n",
      "Hola Mundo\n",
      "FIN\n"
     ]
    }
   ],
   "source": [
    "midecorador(hola_mundo)()"
   ]
  },
  {
   "cell_type": "markdown",
   "metadata": {},
   "source": [
    "Esto no es la forma de hacer esto en python. Hay que hacer lo siguiente"
   ]
  },
  {
   "cell_type": "code",
   "execution_count": 4,
   "metadata": {},
   "outputs": [
    {
     "name": "stdout",
     "output_type": "stream",
     "text": [
      "INICIO\n",
      "Hola Mundo\n",
      "FIN\n"
     ]
    }
   ],
   "source": [
    "def midecorador(function):\n",
    "    def wrapper():\n",
    "        print (\"INICIO\")\n",
    "        function()\n",
    "        print (\"FIN\")\n",
    "    return wrapper\n",
    "\n",
    "@midecorador\n",
    "def hola_mundo():\n",
    "    print (f\"Hola Mundo\")\n",
    "    \n",
    "hola_mundo()"
   ]
  },
  {
   "cell_type": "markdown",
   "metadata": {},
   "source": [
    "y si función tiene argumentos esto va a fallar"
   ]
  },
  {
   "cell_type": "code",
   "execution_count": 5,
   "metadata": {},
   "outputs": [
    {
     "ename": "TypeError",
     "evalue": "midecorador.<locals>.wrapper() takes 0 positional arguments but 1 was given",
     "output_type": "error",
     "traceback": [
      "\u001b[0;31m---------------------------------------------------------------------------\u001b[0m",
      "\u001b[0;31mTypeError\u001b[0m                                 Traceback (most recent call last)",
      "Cell \u001b[0;32mIn [5], line 5\u001b[0m\n\u001b[1;32m      1\u001b[0m \u001b[39m@midecorador\u001b[39m\n\u001b[1;32m      2\u001b[0m \u001b[39mdef\u001b[39;00m \u001b[39mhola_tu\u001b[39m(nombre):\n\u001b[1;32m      3\u001b[0m     \u001b[39mprint\u001b[39m (\u001b[39mf\u001b[39m\u001b[39m\"\u001b[39m\u001b[39mHola \u001b[39m\u001b[39m{\u001b[39;00mnombre\u001b[39m}\u001b[39;00m\u001b[39m\"\u001b[39m)\n\u001b[0;32m----> 5\u001b[0m hola_tu(\u001b[39m\"\u001b[39;49m\u001b[39mPedro\u001b[39;49m\u001b[39m\"\u001b[39;49m)\n",
      "\u001b[0;31mTypeError\u001b[0m: midecorador.<locals>.wrapper() takes 0 positional arguments but 1 was given"
     ]
    }
   ],
   "source": [
    "@midecorador\n",
    "def hola_tu(nombre):\n",
    "    print (f\"Hola {nombre}\")\n",
    "\n",
    "hola_tu(\"Pedro\")"
   ]
  },
  {
   "cell_type": "markdown",
   "metadata": {},
   "source": [
    "Esto pasa porque el wrapper no acepta las variables, entonces le agregamos los args y kwargs"
   ]
  },
  {
   "cell_type": "code",
   "execution_count": null,
   "metadata": {},
   "outputs": [
    {
     "name": "stdout",
     "output_type": "stream",
     "text": [
      "INICIO\n",
      "Hola Pedro\n",
      "FIN\n"
     ]
    }
   ],
   "source": [
    "def midecorador(function):\n",
    "    def wrapper(*args, **kwargs):\n",
    "        print (\"INICIO\")\n",
    "        function(*args, **kwargs)\n",
    "        print (\"FIN\")\n",
    "    return wrapper\n",
    "\n",
    "@midecorador\n",
    "def hola_tu(nombre):\n",
    "    print (f\"Hola {nombre}\")\n",
    "\n",
    "hola_tu(\"Pedro\")\n",
    "    "
   ]
  },
  {
   "cell_type": "markdown",
   "metadata": {},
   "source": [
    "Otro ejemplo con logging"
   ]
  },
  {
   "cell_type": "code",
   "execution_count": null,
   "metadata": {},
   "outputs": [
    {
     "name": "stdout",
     "output_type": "stream",
     "text": [
      "LOG: add devuelve valor 30\n",
      "30\n",
      "LOG: add devuelve valor 7\n",
      "7\n"
     ]
    }
   ],
   "source": [
    "def logged(function):\n",
    "    def wrapper (*args, **kwargs):\n",
    "        value = function(*args, **kwargs)\n",
    "        with open('logfile.txt', 'a+') as f:\n",
    "            fname = function.__name__ #nombre de la funcion\n",
    "            f.write(f\"LOG: {fname} devuelve valor {value}\\n\")\n",
    "            print(f\"LOG: {fname} devuelve valor {value}\")\n",
    "        return value\n",
    "    return wrapper\n",
    "    \n",
    "@logged\n",
    "def add(x,y):\n",
    "    return x+y\n",
    "\n",
    "print(add(10,20))\n",
    "print (add(4,3))"
   ]
  },
  {
   "cell_type": "markdown",
   "metadata": {},
   "source": [
    "Otro ejemplo con timing"
   ]
  },
  {
   "cell_type": "code",
   "execution_count": null,
   "metadata": {},
   "outputs": [
    {
     "name": "stdout",
     "output_type": "stream",
     "text": [
      "myfuncionlenta demoró 8.917000059227576e-06 segundos en ejecutar\n",
      "933262154439441526816992388562667004907159682643816214685929638952175999932299156089414639761565182862536979208272237582511852109168640000000000000000000000\n",
      "myfuncionlenta demoró 0.00040704200000618584 segundos en ejecutar\n",
      "402387260077093773543702433923003985719374864210714632543799910429938512398629020592044208486969404800479988610197196058631666872994808558901323829669944590997424504087073759918823627727188732519779505950995276120874975462497043601418278094646496291056393887437886487337119181045825783647849977012476632889835955735432513185323958463075557409114262417474349347553428646576611667797396668820291207379143853719588249808126867838374559731746136085379534524221586593201928090878297308431392844403281231558611036976801357304216168747609675871348312025478589320767169132448426236131412508780208000261683151027341827977704784635868170164365024153691398281264810213092761244896359928705114964975419909342221566832572080821333186116811553615836546984046708975602900950537616475847728421889679646244945160765353408198901385442487984959953319101723355556602139450399736280750137837615307127761926849034352625200015888535147331611702103968175921510907788019393178114194545257223865541461062892187960223838971476088506276862967146674697562911234082439208160153780889893964518263243671616762179168909779911903754031274622289988005195444414282012187361745992642956581746628302955570299024324153181617210465832036786906117260158783520751516284225540265170483304226143974286933061690897968482590125458327168226458066526769958652682272807075781391858178889652208164348344825993266043367660176999612831860788386150279465955131156552036093988180612138558600301435694527224206344631797460594682573103790084024432438465657245014402821885252470935190620929023136493273497565513958720559654228749774011413346962715422845862377387538230483865688976461927383814900140767310446640259899490222221765904339901886018566526485061799702356193897017860040811889729918311021171229845901641921068884387121855646124960798722908519296819372388642614839657382291123125024186649353143970137428531926649875337218940694281434118520158014123344828015051399694290153483077644569099073152433278288269864602789864321139083506217095002597389863554277196742822248757586765752344220207573630569498825087968928162753848863396909959826280956121450994871701244516461260379029309120889086942028510640182154399457156805941872748998094254742173582401063677404595741785160829230135358081840096996372524230560855903700624271243416909004153690105933983835777939410970027753472000000000000000000000000000000000000000000000000000000000000000000000000000000000000000000000000000000000000000000000000000000000000000000000000000000000000000000000000000000000000000000000000000000000000000000000000000000000000000000000000000000\n"
     ]
    }
   ],
   "source": [
    "import time\n",
    "\n",
    "def timed(function):\n",
    "    def wrapper(*args, **kwargs):\n",
    "        before = time.perf_counter()\n",
    "        value = function(*args, **kwargs)\n",
    "        after = time.perf_counter()\n",
    "        function_name = function.__name__\n",
    "        print (f\"{function_name} demoró {after-before} segundos en ejecutar\")\n",
    "        return value\n",
    "    return wrapper\n",
    "\n",
    "@timed\n",
    "def myfuncionlenta(x):\n",
    "    result = 1\n",
    "    for i in range(1,x):\n",
    "        result *=i\n",
    "    return result\n",
    "\n",
    "print (myfuncionlenta(100))    \n",
    "print (myfuncionlenta(1_000))    \n",
    "# no resulta para un númerpo muy grande por un límite de tamaño que no entiendo bien, pero d lo mismo"
   ]
  },
  {
   "cell_type": "markdown",
   "metadata": {},
   "source": [
    "### functools.wraps\n",
    "Otro ejemplo"
   ]
  },
  {
   "cell_type": "code",
   "execution_count": 6,
   "metadata": {},
   "outputs": [
    {
     "name": "stdout",
     "output_type": "stream",
     "text": [
      "Hola\n"
     ]
    }
   ],
   "source": [
    "from functools import wraps\n",
    "from time import perf_counter, sleep\n",
    "\n",
    "def do_something(param: str):\n",
    "    ''' Esto es una función importante'''\n",
    "    sleep(1)\n",
    "    print (param)\n",
    "    \n",
    "do_something(\"Hola\")"
   ]
  },
  {
   "cell_type": "markdown",
   "metadata": {},
   "source": [
    "Nada nuevo acá, pero lo que queremos es tomarle el tiempo"
   ]
  },
  {
   "cell_type": "code",
   "execution_count": 10,
   "metadata": {},
   "outputs": [
    {
     "name": "stdout",
     "output_type": "stream",
     "text": [
      "Hola\n",
      "Hola\n",
      "Total time 1.0 segundos\n",
      "==========\n",
      "Hello ['Hello', 3]\n",
      "Hello\n",
      "Total time 1.01 segundos\n"
     ]
    }
   ],
   "source": [
    "from functools import wraps\n",
    "from time import perf_counter, sleep\n",
    "\n",
    "def get_time(func):\n",
    "    '''toma tiempo de funcion'''\n",
    "    \n",
    "    def wrapper (*args, **kwargs):\n",
    "        start_time = perf_counter()\n",
    "        \n",
    "        print (*args, **kwargs)\n",
    "        func(*args, **kwargs)\n",
    "        \n",
    "        end_time = perf_counter()\n",
    "        \n",
    "        total_time = round(end_time - start_time, 2)\n",
    "        \n",
    "        print (f\"Total time {total_time} segundos\")\n",
    "    \n",
    "    return wrapper\n",
    "        \n",
    "@get_time\n",
    "def do_something(param: str):\n",
    "    ''' Esto es una función importante'''\n",
    "    sleep(1)\n",
    "    print (param)\n",
    "    \n",
    "do_something(\"Hola\")\n",
    "print (\"=\"*10)\n",
    "\n",
    "@get_time\n",
    "def do_something(param: str, lst: list):\n",
    "    ''' Esto es una función importante'''\n",
    "    sleep(1)\n",
    "    print (param)\n",
    "do_something(\"Hello\", [\"Hello\",3])"
   ]
  },
  {
   "cell_type": "code",
   "execution_count": 11,
   "metadata": {},
   "outputs": [
    {
     "name": "stdout",
     "output_type": "stream",
     "text": [
      "wrapper\n"
     ]
    }
   ],
   "source": [
    "@get_time\n",
    "def do_something(param: str):\n",
    "    ''' Esto es una función importante'''\n",
    "    sleep(1)\n",
    "    print (param)\n",
    "    \n",
    "print (do_something.__name__)"
   ]
  },
  {
   "cell_type": "markdown",
   "metadata": {},
   "source": [
    "Transfiere el nombre al wrapper y esto no está bien"
   ]
  },
  {
   "cell_type": "code",
   "execution_count": 12,
   "metadata": {},
   "outputs": [
    {
     "name": "stdout",
     "output_type": "stream",
     "text": [
      "None\n"
     ]
    }
   ],
   "source": [
    "print (do_something.__doc__)"
   ]
  },
  {
   "cell_type": "code",
   "execution_count": 17,
   "metadata": {},
   "outputs": [
    {
     "name": "stdout",
     "output_type": "stream",
     "text": [
      "HOLANDA\n",
      "HOLANDA\n",
      "Total time 1.0 segundos\n",
      "do_something\n",
      "Esto es una función importante\n"
     ]
    }
   ],
   "source": [
    "from functools import wraps\n",
    "from time import perf_counter, sleep\n",
    "\n",
    "def get_time(func):\n",
    "    '''toma tiempo de funcion'''\n",
    "    \n",
    "    @wraps(func) #transfiere el dato desde func\n",
    "    def wrapper (*args, **kwargs):\n",
    "        start_time = perf_counter()\n",
    "        \n",
    "        print (*args, **kwargs)\n",
    "        func(*args, **kwargs)\n",
    "        \n",
    "        end_time = perf_counter()\n",
    "        \n",
    "        total_time = round(end_time - start_time, 2)\n",
    "        \n",
    "        print (f\"Total time {total_time} segundos\")\n",
    "    \n",
    "    return wrapper\n",
    "        \n",
    "@get_time\n",
    "def do_something(param: str):\n",
    "    '''Esto es una función importante'''\n",
    "    sleep(1)\n",
    "    print (param)\n",
    "\n",
    "do_something(\"HOLANDA\")\n",
    "print (do_something.__name__)\n",
    "print (do_something.__doc__)\n",
    "    "
   ]
  },
  {
   "cell_type": "code",
   "execution_count": null,
   "metadata": {},
   "outputs": [],
   "source": []
  },
  {
   "cell_type": "code",
   "execution_count": null,
   "metadata": {},
   "outputs": [],
   "source": []
  }
 ],
 "metadata": {
  "kernelspec": {
   "display_name": "Python 3.10.7 64-bit ('3.10.7')",
   "language": "python",
   "name": "python3"
  },
  "language_info": {
   "codemirror_mode": {
    "name": "ipython",
    "version": 3
   },
   "file_extension": ".py",
   "mimetype": "text/x-python",
   "name": "python",
   "nbconvert_exporter": "python",
   "pygments_lexer": "ipython3",
   "version": "3.10.7"
  },
  "orig_nbformat": 4,
  "vscode": {
   "interpreter": {
    "hash": "ffff4eaedde3bb29b87e41ced0ca498d53826d645c369320959b21992ee200c1"
   }
  }
 },
 "nbformat": 4,
 "nbformat_minor": 2
}
