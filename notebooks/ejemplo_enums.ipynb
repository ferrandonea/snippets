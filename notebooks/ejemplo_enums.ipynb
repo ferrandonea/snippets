{
 "cells": [
  {
   "cell_type": "code",
   "execution_count": 36,
   "metadata": {},
   "outputs": [],
   "source": [
    "from enum import Enum\n",
    "\n",
    "class Color(Enum):\n",
    "    rojo = \"#FF0000\"\n",
    "    verde = \"#008000\"\n",
    "    azul = \"#0000FF\""
   ]
  },
  {
   "cell_type": "code",
   "execution_count": 37,
   "metadata": {},
   "outputs": [
    {
     "data": {
      "text/plain": [
       "<Color.azul: '#0000FF'>"
      ]
     },
     "execution_count": 37,
     "metadata": {},
     "output_type": "execute_result"
    }
   ],
   "source": [
    "Color.azul"
   ]
  },
  {
   "cell_type": "markdown",
   "metadata": {},
   "source": [
    "No sabemos como obtener los valores, probemos"
   ]
  },
  {
   "cell_type": "code",
   "execution_count": 38,
   "metadata": {},
   "outputs": [
    {
     "data": {
      "text/plain": [
       "'#0000FF'"
      ]
     },
     "execution_count": 38,
     "metadata": {},
     "output_type": "execute_result"
    }
   ],
   "source": [
    "Color.azul.value"
   ]
  },
  {
   "cell_type": "markdown",
   "metadata": {},
   "source": [
    "Otra prueba"
   ]
  },
  {
   "cell_type": "code",
   "execution_count": 39,
   "metadata": {},
   "outputs": [
    {
     "data": {
      "text/plain": [
       "<Color.rojo: '#FF0000'>"
      ]
     },
     "execution_count": 39,
     "metadata": {},
     "output_type": "execute_result"
    }
   ],
   "source": [
    "Color(\"#FF0000\")"
   ]
  },
  {
   "cell_type": "code",
   "execution_count": 40,
   "metadata": {},
   "outputs": [
    {
     "name": "stdout",
     "output_type": "stream",
     "text": [
      "Color.rojo\n"
     ]
    }
   ],
   "source": [
    "print (Color['rojo'])"
   ]
  },
  {
   "cell_type": "code",
   "execution_count": 41,
   "metadata": {},
   "outputs": [
    {
     "name": "stdout",
     "output_type": "stream",
     "text": [
      "#FF0000\n"
     ]
    }
   ],
   "source": [
    "print (Color['rojo'].value)"
   ]
  },
  {
   "cell_type": "markdown",
   "metadata": {},
   "source": [
    "Si queremos recorrer la lista"
   ]
  },
  {
   "cell_type": "code",
   "execution_count": 42,
   "metadata": {},
   "outputs": [
    {
     "name": "stdout",
     "output_type": "stream",
     "text": [
      "[<Color.rojo: '#FF0000'>, <Color.verde: '#008000'>, <Color.azul: '#0000FF'>]\n"
     ]
    }
   ],
   "source": [
    "lista = [x for x in Color]\n",
    "print (lista)"
   ]
  },
  {
   "cell_type": "code",
   "execution_count": 43,
   "metadata": {},
   "outputs": [
    {
     "name": "stdout",
     "output_type": "stream",
     "text": [
      "['#FF0000', '#008000', '#0000FF']\n"
     ]
    }
   ],
   "source": [
    "print ([c.value for c in Color])"
   ]
  },
  {
   "cell_type": "markdown",
   "metadata": {},
   "source": [
    "Otro ejemplo"
   ]
  },
  {
   "cell_type": "code",
   "execution_count": 44,
   "metadata": {},
   "outputs": [
    {
     "name": "stdout",
     "output_type": "stream",
     "text": [
      "0: John\n",
      "1: Mike\n",
      "2: Anna\n",
      "3: Rob\n",
      "4: Sara\n"
     ]
    }
   ],
   "source": [
    "nombres = [\"John\", \"Mike\", \"Anna\", \"Rob\", \"Sara\"]\n",
    "\n",
    "# quiero que 0: Jhon, 1: Mike.... etc\n",
    "\n",
    "\n",
    "cont = 0\n",
    "for nombre in nombres:\n",
    "    print (f\"{cont}: {nombre}\")\n",
    "    cont +=1"
   ]
  },
  {
   "cell_type": "code",
   "execution_count": 45,
   "metadata": {},
   "outputs": [
    {
     "name": "stdout",
     "output_type": "stream",
     "text": [
      "0: John\n",
      "1: Mike\n",
      "2: Anna\n",
      "3: Rob\n",
      "4: Sara\n",
      "{0: 'John', 1: 'Mike', 2: 'Anna', 3: 'Rob', 4: 'Sara'}\n"
     ]
    }
   ],
   "source": [
    "datos = dict()\n",
    "cont = 0\n",
    "for nombre in nombres:\n",
    "    print (f\"{cont}: {nombre}\")\n",
    "    datos[cont] = nombre\n",
    "    cont +=1\n",
    "    \n",
    "print (datos)    "
   ]
  },
  {
   "cell_type": "markdown",
   "metadata": {},
   "source": [
    "Se puede hacer más simple, eso no está mal, pero es como enredado"
   ]
  },
  {
   "cell_type": "code",
   "execution_count": 46,
   "metadata": {},
   "outputs": [
    {
     "data": {
      "text/plain": [
       "{0: 'John', 1: 'Mike', 2: 'Anna', 3: 'Rob', 4: 'Sara'}"
      ]
     },
     "execution_count": 46,
     "metadata": {},
     "output_type": "execute_result"
    }
   ],
   "source": [
    "datos = dict()\n",
    "for index, nombre in enumerate(nombres):\n",
    "    datos[index] = nombre\n",
    "\n",
    "datos\n",
    "    "
   ]
  },
  {
   "cell_type": "code",
   "execution_count": 47,
   "metadata": {},
   "outputs": [
    {
     "name": "stdout",
     "output_type": "stream",
     "text": [
      "<enumerate object at 0x10a64ef70>\n"
     ]
    }
   ],
   "source": [
    "    print (enumerate(nombres))"
   ]
  },
  {
   "cell_type": "code",
   "execution_count": 48,
   "metadata": {},
   "outputs": [
    {
     "name": "stdout",
     "output_type": "stream",
     "text": [
      "[(0, 'John'), (1, 'Mike'), (2, 'Anna'), (3, 'Rob'), (4, 'Sara')]\n"
     ]
    }
   ],
   "source": [
    "print (list(enumerate(nombres)))"
   ]
  },
  {
   "cell_type": "markdown",
   "metadata": {},
   "source": [
    "Crea una lista de tuplas"
   ]
  },
  {
   "cell_type": "code",
   "execution_count": 49,
   "metadata": {},
   "outputs": [
    {
     "data": {
      "text/plain": [
       "enumerate"
      ]
     },
     "execution_count": 49,
     "metadata": {},
     "output_type": "execute_result"
    }
   ],
   "source": [
    "type(enumerate(nombres))"
   ]
  },
  {
   "cell_type": "markdown",
   "metadata": {},
   "source": [
    "Otro ejemplo"
   ]
  },
  {
   "cell_type": "code",
   "execution_count": 50,
   "metadata": {},
   "outputs": [
    {
     "name": "stdout",
     "output_type": "stream",
     "text": [
      "OrganizationRole.MANAGER\n",
      "2\n"
     ]
    }
   ],
   "source": [
    "class OrganizationRole(Enum):\n",
    "    CEO = 0\n",
    "    PRESIDENT = 1\n",
    "    MANAGER = 2\n",
    "    STAFF = 3\n",
    "    \n",
    "def main():\n",
    "    my_role = OrganizationRole.MANAGER\n",
    "    print (my_role)\n",
    "    print (my_role.value)\n",
    "\n",
    "main()"
   ]
  },
  {
   "cell_type": "markdown",
   "metadata": {},
   "source": [
    "Se puede hace un poco más fácil con la función `auto()`"
   ]
  },
  {
   "cell_type": "code",
   "execution_count": 51,
   "metadata": {},
   "outputs": [
    {
     "name": "stdout",
     "output_type": "stream",
     "text": [
      "OrganizationRole.MANAGER\n",
      "3\n"
     ]
    }
   ],
   "source": [
    "from enum import auto\n",
    "\n",
    "class OrganizationRole(Enum):\n",
    "    CEO = auto()\n",
    "    PRESIDENT = auto()\n",
    "    MANAGER = auto()\n",
    "    STAFF = auto()\n",
    "    \n",
    "def main():\n",
    "    my_role = OrganizationRole.MANAGER\n",
    "    print (my_role)\n",
    "    print (my_role.value)\n",
    "\n",
    "main()"
   ]
  },
  {
   "cell_type": "markdown",
   "metadata": {},
   "source": [
    "Otra forma"
   ]
  },
  {
   "cell_type": "code",
   "execution_count": 52,
   "metadata": {},
   "outputs": [
    {
     "name": "stdout",
     "output_type": "stream",
     "text": [
      "OrganizationRole.MANAGER\n",
      "2\n"
     ]
    }
   ],
   "source": [
    "class OrganizationRole(Enum):\n",
    "    CEO, PRESIDENT, MANAGER, STAFF = range(4)\n",
    "    \n",
    "def main():\n",
    "    my_role = OrganizationRole.MANAGER\n",
    "    print (my_role)\n",
    "    print (my_role.value)\n",
    "\n",
    "main()"
   ]
  },
  {
   "cell_type": "markdown",
   "metadata": {},
   "source": [
    "Otro ejemplo más"
   ]
  },
  {
   "cell_type": "code",
   "execution_count": 55,
   "metadata": {},
   "outputs": [],
   "source": [
    "class State(Enum):\n",
    "    PLAYING = 0\n",
    "    PAUSED = 1\n",
    "    GAME_OVER = 2\n",
    "    # los valores deben ser únicos, no va a falllar pero no funciona bien"
   ]
  },
  {
   "cell_type": "code",
   "execution_count": 56,
   "metadata": {},
   "outputs": [
    {
     "name": "stdout",
     "output_type": "stream",
     "text": [
      "State.PLAYING\n"
     ]
    }
   ],
   "source": [
    "print (State.PLAYING)"
   ]
  },
  {
   "cell_type": "code",
   "execution_count": 58,
   "metadata": {},
   "outputs": [
    {
     "name": "stdout",
     "output_type": "stream",
     "text": [
      "JUGANDO\n"
     ]
    }
   ],
   "source": [
    "state = State.PLAYING\n",
    "\n",
    "if state == State.PLAYING:\n",
    "    print (\"JUGANDO\")\n",
    "else:\n",
    "    print (\"OTRO ESTADO\")"
   ]
  },
  {
   "cell_type": "code",
   "execution_count": 59,
   "metadata": {},
   "outputs": [
    {
     "data": {
      "text/plain": [
       "0"
      ]
     },
     "execution_count": 59,
     "metadata": {},
     "output_type": "execute_result"
    }
   ],
   "source": [
    "state.value"
   ]
  },
  {
   "cell_type": "code",
   "execution_count": 61,
   "metadata": {},
   "outputs": [
    {
     "data": {
      "text/plain": [
       "'PLAYING'"
      ]
     },
     "execution_count": 61,
     "metadata": {},
     "output_type": "execute_result"
    }
   ],
   "source": [
    "state.name"
   ]
  },
  {
   "cell_type": "code",
   "execution_count": 64,
   "metadata": {},
   "outputs": [
    {
     "data": {
      "text/plain": [
       "['GAME_OVER',\n",
       " 'PAUSED',\n",
       " 'PLAYING',\n",
       " '__class__',\n",
       " '__doc__',\n",
       " '__eq__',\n",
       " '__hash__',\n",
       " '__module__',\n",
       " 'name',\n",
       " 'value']"
      ]
     },
     "execution_count": 64,
     "metadata": {},
     "output_type": "execute_result"
    }
   ],
   "source": [
    "state.__dir__()"
   ]
  },
  {
   "cell_type": "markdown",
   "metadata": {},
   "source": [
    "Este es un ejemplo \"real\""
   ]
  },
  {
   "cell_type": "code",
   "execution_count": 72,
   "metadata": {},
   "outputs": [
    {
     "data": {
      "text/plain": [
       "True"
      ]
     },
     "execution_count": 72,
     "metadata": {},
     "output_type": "execute_result"
    }
   ],
   "source": [
    "class MessageType(Enum):\n",
    "    CHAT_ENDED_EVENT = \"chatEndedEvent\"\n",
    "    MESSAGE_DELETED_EVENT = \"messageDeletedEvent\"\n",
    "    NEW_SPONSOR"
   ]
  },
  {
   "cell_type": "code",
   "execution_count": null,
   "metadata": {},
   "outputs": [],
   "source": []
  }
 ],
 "metadata": {
  "kernelspec": {
   "display_name": "Python 3.10.7 64-bit ('3.10.7')",
   "language": "python",
   "name": "python3"
  },
  "language_info": {
   "codemirror_mode": {
    "name": "ipython",
    "version": 3
   },
   "file_extension": ".py",
   "mimetype": "text/x-python",
   "name": "python",
   "nbconvert_exporter": "python",
   "pygments_lexer": "ipython3",
   "version": "3.10.7"
  },
  "orig_nbformat": 4,
  "vscode": {
   "interpreter": {
    "hash": "ffff4eaedde3bb29b87e41ced0ca498d53826d645c369320959b21992ee200c1"
   }
  }
 },
 "nbformat": 4,
 "nbformat_minor": 2
}
