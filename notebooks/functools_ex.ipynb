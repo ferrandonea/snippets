{
 "cells": [
  {
   "cell_type": "markdown",
   "metadata": {},
   "source": [
    "# Functools\n",
    "Functiones de alto orden, que actuan o retornan funciones, cualquier\n",
    "objeto callable es tratado como una función para efectos de esto"
   ]
  },
  {
   "cell_type": "code",
   "execution_count": 2,
   "metadata": {},
   "outputs": [],
   "source": [
    "import functools\n"
   ]
  },
  {
   "cell_type": "code",
   "execution_count": 15,
   "metadata": {},
   "outputs": [],
   "source": [
    "student_data = [\n",
    "    {\n",
    "        \"name\": \"John Smith\",\n",
    "        \"age\": 10,\n",
    "        \"on_vacation\": False,\n",
    "        \"test_scores\": [66, 85, 39, 61, 16, 92, 33, 3, 87, 71],\n",
    "    },\n",
    "    {\n",
    "        \"name\": \"Jane Doe\",\n",
    "        \"age\": 10,\n",
    "        \"on_vacation\": False,\n",
    "        \"test_scores\": [4, 73, 75, 4, 50, 83, 8, 23, 42, 23],\n",
    "    },\n",
    "    {\n",
    "        \"name\": \"Isaac Newton\",\n",
    "        \"age\": 30,\n",
    "        \"on_vacation\": True,\n",
    "        \"test_scores\": [93, 96, 94, 92, 95, 90, 100, 98, 90, 94],\n",
    "    },\n",
    "]"
   ]
  },
  {
   "cell_type": "markdown",
   "metadata": {},
   "source": [
    "#### Iru_cache, cache\n",
    "Crea un cache para mejorar velocidad"
   ]
  },
  {
   "cell_type": "code",
   "execution_count": 5,
   "metadata": {},
   "outputs": [],
   "source": [
    "def factorial(n):\n",
    "    return n * factorial(n-1) if n else 1"
   ]
  },
  {
   "cell_type": "code",
   "execution_count": 6,
   "metadata": {},
   "outputs": [
    {
     "name": "stdout",
     "output_type": "stream",
     "text": [
      "12.8 µs ± 81.2 ns per loop (mean ± std. dev. of 7 runs, 100,000 loops each)\n"
     ]
    }
   ],
   "source": [
    "%%timeit\n",
    "factorial(100)"
   ]
  },
  {
   "cell_type": "code",
   "execution_count": 7,
   "metadata": {},
   "outputs": [],
   "source": [
    "@functools.lru_cache(maxsize=None)\n",
    "def fast_factorial(n):\n",
    "    return n * factorial(n-1) if n else 1    "
   ]
  },
  {
   "cell_type": "code",
   "execution_count": 9,
   "metadata": {},
   "outputs": [
    {
     "name": "stdout",
     "output_type": "stream",
     "text": [
      "61.5 ns ± 4.66 ns per loop (mean ± std. dev. of 7 runs, 10,000,000 loops each)\n"
     ]
    }
   ],
   "source": [
    "%%timeit\n",
    "fast_factorial(100)"
   ]
  },
  {
   "cell_type": "code",
   "execution_count": 10,
   "metadata": {},
   "outputs": [],
   "source": [
    "@functools.cache\n",
    "def fast_factorial(n):\n",
    "    return n * factorial(n-1) if n else 1"
   ]
  },
  {
   "cell_type": "code",
   "execution_count": 11,
   "metadata": {},
   "outputs": [
    {
     "name": "stdout",
     "output_type": "stream",
     "text": [
      "59.6 ns ± 1.06 ns per loop (mean ± std. dev. of 7 runs, 10,000,000 loops each)\n"
     ]
    }
   ],
   "source": [
    "%%timeit\n",
    "fast_factorial(100)"
   ]
  },
  {
   "cell_type": "markdown",
   "metadata": {},
   "source": [
    "#### total ordering"
   ]
  },
  {
   "cell_type": "code",
   "execution_count": 13,
   "metadata": {},
   "outputs": [],
   "source": [
    "from typing import List\n",
    "class Student:\n",
    "\n",
    "    def __init__(self, name:str, age:int,test_scores:List[int], on_vacation: bool=False):\n",
    "        self.name = name\n",
    "        self.age = age\n",
    "        self.test_scores = test_scores\n",
    "        self.on_vacation = on_vacation\n",
    "\n",
    "    def __repr__(self):\n",
    "        return f'Student(name={self.name})'\n",
    "\n",
    "    @property\n",
    "    def mean_test_score(self):\n",
    "        return sum(x for x in self.test_scores) / len(self.test_scores)"
   ]
  },
  {
   "cell_type": "code",
   "execution_count": 16,
   "metadata": {},
   "outputs": [
    {
     "data": {
      "text/plain": [
       "(Student(name=John Smith), Student(name=Isaac Newton))"
      ]
     },
     "execution_count": 16,
     "metadata": {},
     "output_type": "execute_result"
    }
   ],
   "source": [
    "john = Student(**student_data[0])\n",
    "newton = Student(**student_data[2])\n",
    "\n",
    "john, newton"
   ]
  },
  {
   "cell_type": "code",
   "execution_count": 17,
   "metadata": {},
   "outputs": [
    {
     "ename": "TypeError",
     "evalue": "'<' not supported between instances of 'Student' and 'Student'",
     "output_type": "error",
     "traceback": [
      "\u001b[0;31m---------------------------------------------------------------------------\u001b[0m",
      "\u001b[0;31mTypeError\u001b[0m                                 Traceback (most recent call last)",
      "\u001b[1;32m/Users/franciscoerrandonea/Library/CloudStorage/OneDrive-FocusAGF/Repos/basic_python_functions/notebooks/functools_ex.ipynb Celda 14\u001b[0m in \u001b[0;36m<cell line: 2>\u001b[0;34m()\u001b[0m\n\u001b[1;32m      <a href='vscode-notebook-cell:/Users/franciscoerrandonea/Library/CloudStorage/OneDrive-FocusAGF/Repos/basic_python_functions/notebooks/functools_ex.ipynb#X24sZmlsZQ%3D%3D?line=0'>1</a>\u001b[0m \u001b[39m#esto va a dar error\u001b[39;00m\n\u001b[0;32m----> <a href='vscode-notebook-cell:/Users/franciscoerrandonea/Library/CloudStorage/OneDrive-FocusAGF/Repos/basic_python_functions/notebooks/functools_ex.ipynb#X24sZmlsZQ%3D%3D?line=1'>2</a>\u001b[0m john \u001b[39m<\u001b[39;49m newton\n",
      "\u001b[0;31mTypeError\u001b[0m: '<' not supported between instances of 'Student' and 'Student'"
     ]
    }
   ],
   "source": [
    "#esto va a dar error\n",
    "john < newton"
   ]
  },
  {
   "cell_type": "code",
   "execution_count": 18,
   "metadata": {},
   "outputs": [],
   "source": [
    "class Student:\n",
    "\n",
    "    def __init__(self, name:str, age:int,test_scores:List[int], on_vacation: bool=False):\n",
    "        self.name = name\n",
    "        self.age = age\n",
    "        self.test_scores = test_scores\n",
    "        self.on_vacation = on_vacation\n",
    "    \n",
    "    def __repr__(self):\n",
    "        return f'Student(name={self.name})'\n",
    "\n",
    "    @property\n",
    "    def mean_test_score(self):\n",
    "        return sum(x for x in self.test_scores) / len(self.test_scores)\n",
    "    \n",
    "    # add all these special methods.\n",
    "        \n",
    "    def __lt__(self, other: Student):\n",
    "        return self.mean_test_score < other.mean_test_score\n",
    "\n",
    "    def __le__(self, other: Student):\n",
    "        return self.mean_test_score <= other.mean_test_score\n",
    "    \n",
    "    def __gt__(self, other: Student):\n",
    "        return self.mean_test_score > other.mean_test_score\n",
    "\n",
    "    def __ge__(self, other: Student):\n",
    "        return self.mean_test_score >= other.mean_test_score\n",
    "\n",
    "    def __eq__(self, other: Student):\n",
    "        return self.mean_test_score == other.mean_test_score"
   ]
  },
  {
   "cell_type": "code",
   "execution_count": 19,
   "metadata": {},
   "outputs": [
    {
     "data": {
      "text/plain": [
       "(Student(name=John Smith), Student(name=Isaac Newton))"
      ]
     },
     "execution_count": 19,
     "metadata": {},
     "output_type": "execute_result"
    }
   ],
   "source": [
    "john = Student(**student_data[0])\n",
    "newton = Student(**student_data[2])\n",
    "\n",
    "john, newton"
   ]
  },
  {
   "cell_type": "code",
   "execution_count": 20,
   "metadata": {},
   "outputs": [
    {
     "data": {
      "text/plain": [
       "False"
      ]
     },
     "execution_count": 20,
     "metadata": {},
     "output_type": "execute_result"
    }
   ],
   "source": [
    "john > newton"
   ]
  },
  {
   "cell_type": "code",
   "execution_count": 21,
   "metadata": {},
   "outputs": [
    {
     "data": {
      "text/plain": [
       "False"
      ]
     },
     "execution_count": 21,
     "metadata": {},
     "output_type": "execute_result"
    }
   ],
   "source": [
    "# Lo mismo\n",
    "john.__gt__(newton)"
   ]
  },
  {
   "cell_type": "code",
   "execution_count": 22,
   "metadata": {},
   "outputs": [],
   "source": [
    "functools.total_ordering\n",
    "class Student:\n",
    "    \n",
    "    def __init__(self, name:str, age:int,test_scores:List[int], on_vacation: bool=False):\n",
    "        self.name = name\n",
    "        self.age = age\n",
    "        self.test_scores = test_scores\n",
    "        self.on_vacation = on_vacation\n",
    "    \n",
    "    def __repr__(self):\n",
    "        return f'Student(name={self.name})'\n",
    "\n",
    "    @property\n",
    "    def mean_test_score(self):\n",
    "        return sum(x for x in self.test_scores) / len(self.test_scores)\n",
    "    \n",
    "    # add all these special methods.\n",
    "        \n",
    "    def __lt__(self, other: Student):\n",
    "        return self.mean_test_score < other.mean_test_score\n",
    "\n",
    "    def __eq__(self, other: Student):\n",
    "        return self.mean_test_score == other.mean_test_score"
   ]
  },
  {
   "cell_type": "markdown",
   "metadata": {},
   "source": [
    "#### partial"
   ]
  },
  {
   "cell_type": "code",
   "execution_count": 24,
   "metadata": {},
   "outputs": [],
   "source": [
    "def is_pass(student: Student, pass_mark = 60):\n",
    "    passed = student.mean_test_score > pass_mark\n",
    "    print((f'{student.name} has test score '\n",
    "          f\"{'above' if passed else 'below'} {pass_mark}\"))\n",
    "    return passed"
   ]
  },
  {
   "cell_type": "code",
   "execution_count": 25,
   "metadata": {},
   "outputs": [
    {
     "name": "stdout",
     "output_type": "stream",
     "text": [
      "John Smith has test score below 60\n"
     ]
    },
    {
     "data": {
      "text/plain": [
       "False"
      ]
     },
     "execution_count": 25,
     "metadata": {},
     "output_type": "execute_result"
    }
   ],
   "source": [
    "is_pass(john)\n"
   ]
  },
  {
   "cell_type": "code",
   "execution_count": 26,
   "metadata": {},
   "outputs": [
    {
     "name": "stdout",
     "output_type": "stream",
     "text": [
      "Isaac Newton has test score above 60\n"
     ]
    },
    {
     "data": {
      "text/plain": [
       "True"
      ]
     },
     "execution_count": 26,
     "metadata": {},
     "output_type": "execute_result"
    }
   ],
   "source": [
    "is_pass(newton)\n"
   ]
  },
  {
   "cell_type": "code",
   "execution_count": 27,
   "metadata": {},
   "outputs": [],
   "source": [
    "def is_top_set(student: Student):\n",
    "    return is_pass(student, 30)"
   ]
  },
  {
   "cell_type": "code",
   "execution_count": 28,
   "metadata": {},
   "outputs": [
    {
     "name": "stdout",
     "output_type": "stream",
     "text": [
      "Isaac Newton has test score above 30\n"
     ]
    },
    {
     "data": {
      "text/plain": [
       "True"
      ]
     },
     "execution_count": 28,
     "metadata": {},
     "output_type": "execute_result"
    }
   ],
   "source": [
    "is_top_set(newton)\n"
   ]
  },
  {
   "cell_type": "code",
   "execution_count": 29,
   "metadata": {},
   "outputs": [],
   "source": [
    "is_top_set = functools.partial(is_pass, pass_mark=80)\n"
   ]
  },
  {
   "cell_type": "code",
   "execution_count": 30,
   "metadata": {},
   "outputs": [
    {
     "name": "stdout",
     "output_type": "stream",
     "text": [
      "Isaac Newton has test score above 80\n"
     ]
    },
    {
     "data": {
      "text/plain": [
       "True"
      ]
     },
     "execution_count": 30,
     "metadata": {},
     "output_type": "execute_result"
    }
   ],
   "source": [
    "is_top_set(newton)\n"
   ]
  },
  {
   "cell_type": "code",
   "execution_count": 31,
   "metadata": {},
   "outputs": [],
   "source": [
    "from statistics import median\n"
   ]
  },
  {
   "cell_type": "code",
   "execution_count": 32,
   "metadata": {},
   "outputs": [
    {
     "data": {
      "text/plain": [
       "(1, 2)"
      ]
     },
     "execution_count": 32,
     "metadata": {},
     "output_type": "execute_result"
    }
   ],
   "source": [
    "min([(1, 2), (5, 1), (2, 3)])\n"
   ]
  },
  {
   "cell_type": "code",
   "execution_count": 33,
   "metadata": {},
   "outputs": [
    {
     "data": {
      "text/plain": [
       "(5, 1)"
      ]
     },
     "execution_count": 33,
     "metadata": {},
     "output_type": "execute_result"
    }
   ],
   "source": [
    "min([(1, 2), (5, 1), (2, 3)], key=lambda item: item[1])\n"
   ]
  },
  {
   "cell_type": "code",
   "execution_count": 36,
   "metadata": {},
   "outputs": [],
   "source": [
    "min_student = functools.partial(min, key=lambda student : median(student.test_scores))\n",
    "#fin"
   ]
  },
  {
   "cell_type": "code",
   "execution_count": null,
   "metadata": {},
   "outputs": [],
   "source": []
  }
 ],
 "metadata": {
  "kernelspec": {
   "display_name": "Python 3.10.4 ('quantstats-test')",
   "language": "python",
   "name": "python3"
  },
  "language_info": {
   "codemirror_mode": {
    "name": "ipython",
    "version": 3
   },
   "file_extension": ".py",
   "mimetype": "text/x-python",
   "name": "python",
   "nbconvert_exporter": "python",
   "pygments_lexer": "ipython3",
   "version": "3.10.4"
  },
  "orig_nbformat": 4,
  "vscode": {
   "interpreter": {
    "hash": "14ab479756c9292e487324cf7f4c59df3157cc871f331801218935373e5d3c27"
   }
  }
 },
 "nbformat": 4,
 "nbformat_minor": 2
}
