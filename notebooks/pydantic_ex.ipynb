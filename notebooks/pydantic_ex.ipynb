{
 "cells": [
  {
   "cell_type": "code",
   "execution_count": 2,
   "metadata": {},
   "outputs": [
    {
     "data": {
      "text/plain": [
       "Usuario(nombre='nombre Nombre', edad=90, correo=None, telefono=None)"
      ]
     },
     "execution_count": 2,
     "metadata": {},
     "output_type": "execute_result"
    }
   ],
   "source": [
    "from pydantic import BaseModel, validator\n",
    "from typing import Optional\n",
    "\n",
    "class Usuario (BaseModel):\n",
    "    nombre: str\n",
    "    edad : int\n",
    "    correo : Optional[str]\n",
    "    telefono : Optional[str]\n",
    "    \n",
    "    @validator(\"nombre\")\n",
    "    def validate_nombre(cls, value):\n",
    "        return f\"nombre {value}\"\n",
    "\n",
    "hola = Usuario(\n",
    "    nombre = \"Nombre\",\n",
    "    edad = 90\n",
    ")\n",
    "\n",
    "hola"
   ]
  },
  {
   "cell_type": "code",
   "execution_count": null,
   "metadata": {},
   "outputs": [],
   "source": []
  }
 ],
 "metadata": {
  "kernelspec": {
   "display_name": ".venv",
   "language": "python",
   "name": "python3"
  },
  "language_info": {
   "codemirror_mode": {
    "name": "ipython",
    "version": 3
   },
   "file_extension": ".py",
   "mimetype": "text/x-python",
   "name": "python",
   "nbconvert_exporter": "python",
   "pygments_lexer": "ipython3",
   "version": "3.11.0"
  },
  "orig_nbformat": 4,
  "vscode": {
   "interpreter": {
    "hash": "7b21c8e65263e2e8b976ef61c991042266dfb0a5eb4182b629d2dd5eefdecc91"
   }
  }
 },
 "nbformat": 4,
 "nbformat_minor": 2
}
