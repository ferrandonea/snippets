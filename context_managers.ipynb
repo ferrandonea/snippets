{
 "cells": [
  {
   "cell_type": "markdown",
   "metadata": {},
   "source": [
    "Ejemplo de uso"
   ]
  },
  {
   "cell_type": "code",
   "execution_count": 24,
   "metadata": {},
   "outputs": [],
   "source": [
    "with open(\"archivo.txt\", \"w\") as file:\n",
    "    file.write(\"Hola mundo\")"
   ]
  },
  {
   "cell_type": "markdown",
   "metadata": {},
   "source": [
    "el cierre `file.close()` lo hace solo"
   ]
  },
  {
   "cell_type": "code",
   "execution_count": 25,
   "metadata": {},
   "outputs": [
    {
     "name": "stdout",
     "output_type": "stream",
     "text": [
      "True\n"
     ]
    }
   ],
   "source": [
    "print (file.closed)"
   ]
  },
  {
   "cell_type": "markdown",
   "metadata": {},
   "source": [
    "Creemos nuestros context manager, igual que el anterior, de temas de archivos"
   ]
  },
  {
   "cell_type": "code",
   "execution_count": 26,
   "metadata": {},
   "outputs": [
    {
     "name": "stdout",
     "output_type": "stream",
     "text": [
      "True\n"
     ]
    }
   ],
   "source": [
    "class FileStream:\n",
    "    def __init__(self, path, mode) -> None:\n",
    "        self.path = path\n",
    "        self.mode = mode\n",
    "    \n",
    "    def __enter__(self): #con el with block se activs\n",
    "        self.filestream = open(self.path, self.mode)\n",
    "        return self.filestream\n",
    "    \n",
    "    def __exit__(self, exc_type, exc_val, ec_tb): #esos parametros raros son necesarios\n",
    "        self.filestream.close()\n",
    "\n",
    "with FileStream(\"file.txt\", \"w\") as f:\n",
    "    f.write(\"Otro Texto\")\n",
    "    \n",
    "print (f.closed)"
   ]
  },
  {
   "cell_type": "markdown",
   "metadata": {},
   "source": [
    "Esto es una forma, existe otra que se parece más a las buenas prácticas, usando libreria `contextlib`\n",
    "\n",
    "lo que viene antes de `yield` es lo que equivale al `__enter__` method y lo que viene después al `__exit__`"
   ]
  },
  {
   "cell_type": "code",
   "execution_count": 27,
   "metadata": {},
   "outputs": [],
   "source": [
    "from contextlib import contextmanager\n",
    "\n",
    "@contextmanager\n",
    "def filestream(path, mode):\n",
    "    f = open(path, mode)\n",
    "    yield f #generator\n",
    "    f.close()"
   ]
  },
  {
   "cell_type": "code",
   "execution_count": 28,
   "metadata": {},
   "outputs": [
    {
     "name": "stdout",
     "output_type": "stream",
     "text": [
      "True\n"
     ]
    }
   ],
   "source": [
    "with filestream('otro_archivo.txt','w') as f:\n",
    "    f.write('con contextlib')\n",
    "print (f.closed)"
   ]
  },
  {
   "cell_type": "markdown",
   "metadata": {},
   "source": [
    "ahora con sockets"
   ]
  },
  {
   "cell_type": "code",
   "execution_count": 29,
   "metadata": {},
   "outputs": [
    {
     "ename": "OSError",
     "evalue": "[Errno 48] Address already in use",
     "output_type": "error",
     "traceback": [
      "\u001b[0;31m---------------------------------------------------------------------------\u001b[0m",
      "\u001b[0;31mOSError\u001b[0m                                   Traceback (most recent call last)",
      "Cell \u001b[0;32mIn [29], line 3\u001b[0m\n\u001b[1;32m      1\u001b[0m \u001b[39mimport\u001b[39;00m \u001b[39msocket\u001b[39;00m\n\u001b[1;32m      2\u001b[0m server \u001b[39m=\u001b[39m socket\u001b[39m.\u001b[39msocket(socket\u001b[39m.\u001b[39mAF_INET, socket\u001b[39m.\u001b[39mSOCK_STREAM)\n\u001b[0;32m----> 3\u001b[0m server\u001b[39m.\u001b[39;49mbind((\u001b[39m\"\u001b[39;49m\u001b[39mlocalhost\u001b[39;49m\u001b[39m\"\u001b[39;49m, \u001b[39m9999\u001b[39;49m))\n\u001b[1;32m      4\u001b[0m server\u001b[39m.\u001b[39mlisten()\n\u001b[1;32m      5\u001b[0m server\u001b[39m.\u001b[39mclose()\n",
      "\u001b[0;31mOSError\u001b[0m: [Errno 48] Address already in use"
     ]
    }
   ],
   "source": [
    "import socket\n",
    "server = socket.socket(socket.AF_INET, socket.SOCK_STREAM)\n",
    "server.bind((\"localhost\", 9999))\n",
    "server.listen()\n",
    "server.close()"
   ]
  },
  {
   "cell_type": "markdown",
   "metadata": {},
   "source": [
    "con context manager"
   ]
  },
  {
   "cell_type": "code",
   "execution_count": null,
   "metadata": {},
   "outputs": [],
   "source": [
    "class ServerSocket:\n",
    "    def __init__(self, host, port) -> None:\n",
    "        self.host = host\n",
    "        self.port = port\n",
    "    \n",
    "    def __enter__(self):\n",
    "        self.server = socket.socket(socket.AF_INET, socket.SOCK_STREAM)\n",
    "        self.server.bind((self.host, self.port))\n",
    "        self.server.listen()\n",
    "        return self.server\n",
    "    \n",
    "    def __exit__(self, exc_type, exc_val, ec_tb):\n",
    "        self.server.close()\n",
    "        \n",
    "with ServerSocket('localhost', 9999) as server:\n",
    "    server.listen()"
   ]
  },
  {
   "cell_type": "code",
   "execution_count": null,
   "metadata": {},
   "outputs": [],
   "source": [
    "import socket\n",
    "from contextlib import contextmanager\n",
    "\n",
    "@contextmanager\n",
    "def server_socket(host, port):\n",
    "    s= socket.socket(socket.AF_INET, socket.SOCK_STREAM)\n",
    "    s.bind((host, port))\n",
    "    s.listen()\n",
    "    yield s\n",
    "    s.close()\n",
    "\n",
    "#with server_socket('localhost', 9999) as server:\n",
    "#    client, addr = server.accept()\n",
    "\n",
    "#esto se me queda pegado, pero funciona\n",
    "    "
   ]
  },
  {
   "cell_type": "markdown",
   "metadata": {},
   "source": [
    "BBDD"
   ]
  },
  {
   "cell_type": "code",
   "execution_count": 34,
   "metadata": {},
   "outputs": [],
   "source": [
    "import sqlite3\n",
    "from contextlib import contextmanager\n",
    "\n",
    "@contextmanager\n",
    "def db_connection(path ):\n",
    "    conn = sqlite3.connect(path)\n",
    "    cursor = conn.cursor()\n",
    "    yield cursor\n",
    "    conn.commit()\n",
    "    conn.close()\n",
    "    \n",
    "with db_connection(\"mydb.db\") as c:\n",
    "    c.execute(\"CREATE TABLE IF NOT EXISTS person (name VARCHAR(255), age INT);\")\n",
    "    "
   ]
  },
  {
   "cell_type": "markdown",
   "metadata": {},
   "source": [
    "se creó la base de datos"
   ]
  },
  {
   "cell_type": "markdown",
   "metadata": {},
   "source": []
  }
 ],
 "metadata": {
  "kernelspec": {
   "display_name": "Python 3.10.7 64-bit ('3.10.7')",
   "language": "python",
   "name": "python3"
  },
  "language_info": {
   "codemirror_mode": {
    "name": "ipython",
    "version": 3
   },
   "file_extension": ".py",
   "mimetype": "text/x-python",
   "name": "python",
   "nbconvert_exporter": "python",
   "pygments_lexer": "ipython3",
   "version": "3.10.7"
  },
  "orig_nbformat": 4,
  "vscode": {
   "interpreter": {
    "hash": "ffff4eaedde3bb29b87e41ced0ca498d53826d645c369320959b21992ee200c1"
   }
  }
 },
 "nbformat": 4,
 "nbformat_minor": 2
}
