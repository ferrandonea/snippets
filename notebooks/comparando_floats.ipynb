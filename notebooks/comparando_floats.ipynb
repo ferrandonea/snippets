{
 "cells": [
  {
   "cell_type": "code",
   "execution_count": 1,
   "metadata": {},
   "outputs": [
    {
     "name": "stdout",
     "output_type": "stream",
     "text": [
      "0.30000000000000004\n"
     ]
    }
   ],
   "source": [
    "a: float = 0.1\n",
    "b: float = 0.2\n",
    "print (a+b)"
   ]
  },
  {
   "cell_type": "markdown",
   "metadata": {},
   "source": [
    "wtf"
   ]
  },
  {
   "cell_type": "code",
   "execution_count": 4,
   "metadata": {},
   "outputs": [
    {
     "name": "stdout",
     "output_type": "stream",
     "text": [
      "False\n",
      "0.30000000000000004 0.3\n"
     ]
    }
   ],
   "source": [
    "c: float = 0.3\n",
    "print ((a+b) ==c )\n",
    "print (a+b, c )\n"
   ]
  },
  {
   "cell_type": "markdown",
   "metadata": {},
   "source": [
    "Esto es porque los computadores guardan los floats en 24 bits porque la definición de un float es técnicamente infinita, entonces se cortan ciertos dígitos de la representación binaria, por eso da cosas raras, que son una estimación"
   ]
  },
  {
   "cell_type": "markdown",
   "metadata": {},
   "source": [
    "Una solución es creando una función especial"
   ]
  },
  {
   "cell_type": "code",
   "execution_count": 11,
   "metadata": {},
   "outputs": [
    {
     "name": "stdout",
     "output_type": "stream",
     "text": [
      "0.30000000000000004-0.3 = 5.551115123125783e-17\n",
      "True\n",
      "0.30000000000000004-0.3 = 5.551115123125783e-17\n",
      "True\n",
      "0.30000000000000004-0.3 = 5.551115123125783e-17\n",
      "False\n"
     ]
    }
   ],
   "source": [
    "def comparar_floats(primero:float, segundo:float, tolerancia:float) -> bool:\n",
    "    absolute : float = abs(primero-segundo)\n",
    "    print (f\"{primero}-{segundo} = {primero - segundo}\")\n",
    "    return absolute < tolerancia\n",
    "\n",
    "print (comparar_floats(a+b,c,0.01))\n",
    "print (comparar_floats(a+b,c,1e-10))\n",
    "print (comparar_floats(a+b,c,1e-20))\n",
    "# la tolerancia depende de los números, e-10 es medio razonable"
   ]
  },
  {
   "cell_type": "markdown",
   "metadata": {},
   "source": [
    "Existe una implementación ya hecha"
   ]
  },
  {
   "cell_type": "code",
   "execution_count": 12,
   "metadata": {},
   "outputs": [
    {
     "name": "stdout",
     "output_type": "stream",
     "text": [
      "True\n"
     ]
    }
   ],
   "source": [
    "from math import isclose\n",
    "\n",
    "print (isclose(a+b,c,rel_tol=1e-10))"
   ]
  },
  {
   "cell_type": "markdown",
   "metadata": {},
   "source": [
    "También se podría hacer otra implementación con round... etc"
   ]
  },
  {
   "cell_type": "markdown",
   "metadata": {},
   "source": []
  }
 ],
 "metadata": {
  "kernelspec": {
   "display_name": "Python 3.11.0 64-bit ('3.11.0')",
   "language": "python",
   "name": "python3"
  },
  "language_info": {
   "codemirror_mode": {
    "name": "ipython",
    "version": 3
   },
   "file_extension": ".py",
   "mimetype": "text/x-python",
   "name": "python",
   "nbconvert_exporter": "python",
   "pygments_lexer": "ipython3",
   "version": "3.11.0"
  },
  "orig_nbformat": 4,
  "vscode": {
   "interpreter": {
    "hash": "211026dce1e7ac162a134d72f9ed00dc0eec95aa1aed0ec61279d0aeb17c1116"
   }
  }
 },
 "nbformat": 4,
 "nbformat_minor": 2
}
