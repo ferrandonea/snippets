{
 "cells": [
  {
   "cell_type": "code",
   "execution_count": null,
   "metadata": {},
   "outputs": [],
   "source": [
    "def mifuncion(parametro):\n",
    "    pass"
   ]
  },
  {
   "cell_type": "markdown",
   "metadata": {},
   "source": [
    "No se que es parámetro y que devuelve, es un tema para cachar lo que voy a hacer o lo que devuelve.\n",
    "Lo podría hacer en runtime probando o podría hacer algo así"
   ]
  },
  {
   "cell_type": "code",
   "execution_count": 1,
   "metadata": {},
   "outputs": [
    {
     "data": {
      "text/plain": [
       "'Integer'"
      ]
     },
     "execution_count": 1,
     "metadata": {},
     "output_type": "execute_result"
    }
   ],
   "source": [
    "def mifuncion(parametro):\n",
    "    if type(parametro) != int:\n",
    "        return \"No Integer\"\n",
    "    else:\n",
    "        return \"Integer\"\n",
    "mifuncion(10)"
   ]
  },
  {
   "cell_type": "markdown",
   "metadata": {},
   "source": [
    "o se podría usar `isinstance(parametro, int)` , pero es como medio lenteja"
   ]
  },
  {
   "cell_type": "code",
   "execution_count": 2,
   "metadata": {},
   "outputs": [
    {
     "name": "stdout",
     "output_type": "stream",
     "text": [
      "Integer\n",
      "No Integer\n",
      "No Integer\n"
     ]
    }
   ],
   "source": [
    "#se agrega typing, se espera que el parámetro sea entero, asumiendo el resto de esta función\n",
    "def mifuncion(parametro: int):\n",
    "    if type(parametro) != int:\n",
    "        return \"No Integer\"\n",
    "    else:\n",
    "        return \"Integer\"\n",
    "print(mifuncion(10))\n",
    "#pero igual puedo poner cualquier cosa, en realidad es como un comentario\n",
    "print(mifuncion(True))\n",
    "print(mifuncion(\"Pedro\"))"
   ]
  },
  {
   "cell_type": "markdown",
   "metadata": {},
   "source": [
    "Existe una herramienta llamada `pypy` que sirve para esto además y chequea los tipos. Es más una buena práctica. Creo que hay que instalarlo con pip\n",
    "\n",
    "Se usa\n",
    "\n",
    "`pypy script.py`\n",
    "\n",
    "y va a chequear los tipos"
   ]
  },
  {
   "cell_type": "code",
   "execution_count": 4,
   "metadata": {},
   "outputs": [],
   "source": [
    "def mifuncion(parametro: int) -> str:\n",
    "    if type(parametro) != int:\n",
    "        return \"No Integer\"\n",
    "    else:\n",
    "        return \"Integer\"\n",
    "\n",
    "# el str te dice lo que escupe la función, también es un comentario, no es obligación"
   ]
  },
  {
   "cell_type": "code",
   "execution_count": 5,
   "metadata": {},
   "outputs": [
    {
     "name": "stdout",
     "output_type": "stream",
     "text": [
      "3\n"
     ]
    }
   ],
   "source": [
    "#se puede usar lista\n",
    "def otra_funcion(param: list[int]) -> int:\n",
    "    print (len(param))\n",
    "    \n",
    "otra_funcion([1,2,3])"
   ]
  },
  {
   "cell_type": "code",
   "execution_count": null,
   "metadata": {},
   "outputs": [],
   "source": []
  }
 ],
 "metadata": {
  "kernelspec": {
   "display_name": "Python 3.11.0 64-bit ('3.11.0')",
   "language": "python",
   "name": "python3"
  },
  "language_info": {
   "codemirror_mode": {
    "name": "ipython",
    "version": 3
   },
   "file_extension": ".py",
   "mimetype": "text/x-python",
   "name": "python",
   "nbconvert_exporter": "python",
   "pygments_lexer": "ipython3",
   "version": "3.11.0"
  },
  "orig_nbformat": 4,
  "vscode": {
   "interpreter": {
    "hash": "211026dce1e7ac162a134d72f9ed00dc0eec95aa1aed0ec61279d0aeb17c1116"
   }
  }
 },
 "nbformat": 4,
 "nbformat_minor": 2
}
