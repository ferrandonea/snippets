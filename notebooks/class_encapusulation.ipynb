{
 "cells": [
  {
   "cell_type": "markdown",
   "metadata": {},
   "source": [
    "# Class Encapsulation\n",
    "Atributos privados y esas cosas"
   ]
  },
  {
   "cell_type": "code",
   "execution_count": 17,
   "metadata": {},
   "outputs": [],
   "source": [
    "class Person:\n",
    "    def __init__(self, name, age, gender) -> None:\n",
    "        self.name = name\n",
    "        self.__age = age # __ ==> atributo privado\n",
    "        self.__gender = gender\n",
    "        \n",
    "    def __str__ (self):\n",
    "        return f\"Person -> Name: {self.name}, Age :{self.__age}, Gender: {self.__gender}\""
   ]
  },
  {
   "cell_type": "code",
   "execution_count": 23,
   "metadata": {},
   "outputs": [
    {
     "name": "stdout",
     "output_type": "stream",
     "text": [
      "Person -> Name: Rodrigo, Age :40, Gender: Male\n"
     ]
    },
    {
     "ename": "AttributeError",
     "evalue": "'Person' object has no attribute '__age'",
     "output_type": "error",
     "traceback": [
      "\u001b[0;31m---------------------------------------------------------------------------\u001b[0m",
      "\u001b[0;31mAttributeError\u001b[0m                            Traceback (most recent call last)",
      "Cell \u001b[0;32mIn [23], line 6\u001b[0m\n\u001b[1;32m      2\u001b[0m \u001b[39mprint\u001b[39m (p1)\n\u001b[1;32m      4\u001b[0m \u001b[39m#la idea es no acceder a los __ que son privados\u001b[39;00m\n\u001b[1;32m      5\u001b[0m \u001b[39m#por ejemplo\u001b[39;00m\n\u001b[0;32m----> 6\u001b[0m p1\u001b[39m.\u001b[39;49m__age\n",
      "\u001b[0;31mAttributeError\u001b[0m: 'Person' object has no attribute '__age'"
     ]
    }
   ],
   "source": [
    "p1 = Person(\"Rodrigo\", 40, \"Male\")\n",
    "print (p1)\n",
    "\n",
    "#la idea es no acceder a los __ que son privados\n",
    "#por ejemplo\n",
    "p1.__age"
   ]
  },
  {
   "cell_type": "code",
   "execution_count": 24,
   "metadata": {},
   "outputs": [],
   "source": [
    "#entonces hacemos la propiedad Age\n",
    "class Person:\n",
    "    def __init__(self, name, age, gender) -> None:\n",
    "        self.name = name\n",
    "        self.__age = age # __ ==> atributo privado\n",
    "        self.__gender = gender\n",
    "    \n",
    "    @property\n",
    "    def Age(self):\n",
    "        return self.__age\n",
    "    \n",
    "    @Age.setter \n",
    "    def Age(self, value):\n",
    "        self.__age = value\n",
    "        \n",
    "    def __str__ (self):\n",
    "        return f\"Person -> Name: {self.name}, Age :{self.__age}, Gender: {self.__gender}\""
   ]
  },
  {
   "cell_type": "code",
   "execution_count": 28,
   "metadata": {},
   "outputs": [
    {
     "name": "stdout",
     "output_type": "stream",
     "text": [
      "Person -> Name: Rodrigo, Age :40, Gender: Male\n"
     ]
    },
    {
     "data": {
      "text/plain": [
       "40"
      ]
     },
     "execution_count": 28,
     "metadata": {},
     "output_type": "execute_result"
    }
   ],
   "source": [
    "#pero si intento\n",
    "p1 = Person(\"Rodrigo\", 40, \"Male\")\n",
    "print (p1)\n",
    "\n",
    "p1.Age\n",
    "#ahora funciona"
   ]
  },
  {
   "cell_type": "markdown",
   "metadata": {},
   "source": [
    "La idea es que uno puede poner verificaciónes o cosas extrañas a los setter"
   ]
  },
  {
   "cell_type": "code",
   "execution_count": 29,
   "metadata": {},
   "outputs": [],
   "source": [
    "class Person:\n",
    "    def __init__(self, name, age, gender) -> None:\n",
    "        self.name = name\n",
    "        self.__age = age # __ ==> atributo privado\n",
    "        self.__gender = gender\n",
    "    \n",
    "    @property\n",
    "    def Age(self):\n",
    "        return self.__age\n",
    "    \n",
    "    @Age.setter \n",
    "    def Age(self, value):\n",
    "        if value > 110:\n",
    "            print (\"Nadie vive más de 110 años, fijando esa edad\")\n",
    "            self.__age = 110\n",
    "        else:\n",
    "            self.__age = value\n",
    "        \n",
    "    def __str__ (self):\n",
    "        return f\"Person -> Name: {self.name}, Age :{self.__age}, Gender: {self.__gender}\""
   ]
  },
  {
   "cell_type": "code",
   "execution_count": 30,
   "metadata": {},
   "outputs": [],
   "source": [
    "p1 = Person(\"Rodrigo\", 40, \"Male\")"
   ]
  },
  {
   "cell_type": "code",
   "execution_count": 31,
   "metadata": {},
   "outputs": [
    {
     "name": "stdout",
     "output_type": "stream",
     "text": [
      "Nadie vive más de 110 años, fijando esa edad\n"
     ]
    }
   ],
   "source": [
    "p1.Age = 600"
   ]
  },
  {
   "cell_type": "code",
   "execution_count": 32,
   "metadata": {},
   "outputs": [
    {
     "data": {
      "text/plain": [
       "110"
      ]
     },
     "execution_count": 32,
     "metadata": {},
     "output_type": "execute_result"
    }
   ],
   "source": [
    "p1.Age"
   ]
  },
  {
   "cell_type": "code",
   "execution_count": 36,
   "metadata": {},
   "outputs": [],
   "source": [
    "#también se pueden hacer métodos estáticos que no tienen que ver con la clase\n",
    "class Person:\n",
    "    def __init__(self, name, age, gender) -> None:\n",
    "        self.name = name\n",
    "        self.__age = age # __ ==> atributo privado\n",
    "        self.__gender = gender\n",
    "    \n",
    "    @property\n",
    "    def Age(self):\n",
    "        return self.__age\n",
    "    \n",
    "    @Age.setter \n",
    "    def Age(self, value):\n",
    "        if value > 110:\n",
    "            print (\"Nadie vive más de 110 años, fijando esa edad\")\n",
    "            self.__age = 110\n",
    "        else:\n",
    "            self.__age = value\n",
    "    \n",
    "    @staticmethod\n",
    "    def saludame():\n",
    "        print (\"Hola como estás\")\n",
    "        \n",
    "    @staticmethod\n",
    "    def saludame_varias_veces(veces):\n",
    "        print (\"Hola como estás \"*veces)\n",
    "        \n",
    "    def __str__ (self):\n",
    "        return f\"Person -> Name: {self.name}, Age :{self.__age}, Gender: {self.__gender}\""
   ]
  },
  {
   "cell_type": "markdown",
   "metadata": {},
   "source": [
    "Esto funciona en la clase, también podría ser en la instancia"
   ]
  },
  {
   "cell_type": "code",
   "execution_count": 40,
   "metadata": {},
   "outputs": [
    {
     "name": "stdout",
     "output_type": "stream",
     "text": [
      "Hola como estás\n"
     ]
    }
   ],
   "source": [
    "Person.saludame()"
   ]
  },
  {
   "cell_type": "code",
   "execution_count": 41,
   "metadata": {},
   "outputs": [
    {
     "name": "stdout",
     "output_type": "stream",
     "text": [
      "Hola como estás Hola como estás Hola como estás Hola como estás Hola como estás Hola como estás Hola como estás Hola como estás Hola como estás Hola como estás \n"
     ]
    }
   ],
   "source": [
    "Person.saludame_varias_veces(10)"
   ]
  },
  {
   "cell_type": "code",
   "execution_count": 39,
   "metadata": {},
   "outputs": [
    {
     "name": "stdout",
     "output_type": "stream",
     "text": [
      "Hola como estás\n"
     ]
    }
   ],
   "source": [
    "p1 = Person(\"Rodrigo\", 40, \"Male\")\n",
    "p1.saludame()"
   ]
  },
  {
   "cell_type": "markdown",
   "metadata": {},
   "source": [
    "Démosle otra vuelta con otro ejemplo, por completitud (?)"
   ]
  },
  {
   "cell_type": "code",
   "execution_count": 2,
   "metadata": {},
   "outputs": [],
   "source": [
    "from dataclasses import dataclass\n",
    "\n",
    "@dataclass\n",
    "class Customer:\n",
    "    id: str\n",
    "    name: str\n",
    "    email_address : str\n",
    "    address_line_1 : str\n",
    "    address_line_2 : str\n",
    "    postal_code : str\n",
    "    city: str\n",
    "    #....\n",
    "    "
   ]
  },
  {
   "cell_type": "markdown",
   "metadata": {},
   "source": [
    "En algún punto esta lista va a tener todo lo que define un Customer, eso es una forma de ver encapsulamiento\n",
    "Otra forma de verlo que define límites de cosas, es decir restringir acceso, que es la forma\n",
    "en que lo tomamos. Python técnicamente no restringe, más que nada lo oculta"
   ]
  },
  {
   "cell_type": "code",
   "execution_count": 4,
   "metadata": {},
   "outputs": [],
   "source": [
    "from dataclasses import dataclass, field\n",
    "from enum import Enum\n",
    "\n",
    "class PaymentStatus(Enum):\n",
    "    CANCELLED = \"cancelled\"\n",
    "    PENDING = \"pending\"\n",
    "    PAID = \"paid\"\n",
    "\n",
    "class PaymentStatusError(Exception):\n",
    "    pass\n",
    "\n",
    "@dataclass\n",
    "class LineItem:\n",
    "    name: str\n",
    "    price: int\n",
    "    quantity: int\n",
    "    \n",
    "    @property\n",
    "    def total_price(self) -> int:\n",
    "        return self.price * self.quantity\n",
    "\n",
    "@dataclass\n",
    "class Order:\n",
    "    items: list[LineItem] = field(default_factory=list)\n",
    "    _payment_status : PaymentStatus = PaymentStatus.PENDING #current status of payment\n",
    "    \n",
    "    def add_item(self, item, LineItem):\n",
    "        self.items.append(item)\n",
    "    \n",
    "    def is_paid(self) -> bool:\n",
    "        return self._payment_status == PaymentStatus.PAID\n",
    "    \n",
    "    def is_cancelled(self) -> bool:\n",
    "        return self._payment_status == PaymentStatus.CANCELLED\n",
    "    \n",
    "    def cancel(self) -> None:\n",
    "        if self._payment_status == PaymentStatus.PAID:\n",
    "            raise PaymentStatusError(\"You can't cancel an already paid order\")\n",
    "        self._payment_status = PaymentStatus.CANCELLED\n",
    "\n",
    "    def pay(self) -> None:\n",
    "        if self._payment_status == PaymentStatus.PAID:\n",
    "            raise PaymentStatusError(\"You can't pay an already paid order\")\n",
    "        self._payment_status = PaymentStatus.PAID\n"
   ]
  },
  {
   "cell_type": "markdown",
   "metadata": {},
   "source": [
    "Acá se pone como protegida el ´_payment_status´, eso implica que en principio no se usa fuera de la clase o en cualquier clase heredada\n",
    "\n",
    "Para que sea privada se usaría ´__payment_status´ con dos _"
   ]
  },
  {
   "cell_type": "code",
   "execution_count": null,
   "metadata": {},
   "outputs": [],
   "source": []
  }
 ],
 "metadata": {
  "kernelspec": {
   "display_name": "Python 3.11.0 64-bit ('3.11.0')",
   "language": "python",
   "name": "python3"
  },
  "language_info": {
   "codemirror_mode": {
    "name": "ipython",
    "version": 3
   },
   "file_extension": ".py",
   "mimetype": "text/x-python",
   "name": "python",
   "nbconvert_exporter": "python",
   "pygments_lexer": "ipython3",
   "version": "3.11.0"
  },
  "orig_nbformat": 4,
  "vscode": {
   "interpreter": {
    "hash": "211026dce1e7ac162a134d72f9ed00dc0eec95aa1aed0ec61279d0aeb17c1116"
   }
  }
 },
 "nbformat": 4,
 "nbformat_minor": 2
}
