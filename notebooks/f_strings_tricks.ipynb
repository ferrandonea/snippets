{
 "cells": [
  {
   "cell_type": "markdown",
   "metadata": {},
   "source": [
    "# f-strings"
   ]
  },
  {
   "cell_type": "code",
   "execution_count": 1,
   "metadata": {},
   "outputs": [],
   "source": [
    "numero: float = 2379.72732\n",
    "porcentaje:float = 0.23722039\n",
    "texto:str = \"TEXTO\""
   ]
  },
  {
   "cell_type": "markdown",
   "metadata": {},
   "source": [
    "### alineación"
   ]
  },
  {
   "cell_type": "code",
   "execution_count": 3,
   "metadata": {},
   "outputs": [
    {
     "name": "stdout",
     "output_type": "stream",
     "text": [
      "TEXTO               \n",
      "               TEXTO\n",
      "       TEXTO        \n"
     ]
    }
   ],
   "source": [
    "print (f\"{texto:<20}\")\n",
    "print (f\"{texto:>20}\")\n",
    "print (f\"{texto:^20}\")"
   ]
  },
  {
   "cell_type": "code",
   "execution_count": 4,
   "metadata": {},
   "outputs": [
    {
     "name": "stdout",
     "output_type": "stream",
     "text": [
      "TEXTO$$$$$$$$$$$$$$$\n",
      "&&&&&&&&&&&&&&&TEXTO\n",
      "RRRRRRRTEXTORRRRRRRR\n"
     ]
    }
   ],
   "source": [
    "print (f\"{texto:$<20}\")\n",
    "print (f\"{texto:&>20}\")\n",
    "print (f\"{texto:R^20}\")"
   ]
  },
  {
   "cell_type": "code",
   "execution_count": 7,
   "metadata": {},
   "outputs": [
    {
     "name": "stdout",
     "output_type": "stream",
     "text": [
      "TEXTO_______________\n",
      "---------------TEXTO\n",
      "_______TEXTO________\n"
     ]
    }
   ],
   "source": [
    "print (f\"{texto:_<20}\")\n",
    "print (f\"{texto:->20}\")\n",
    "print (f\"{texto:_^20}\")"
   ]
  },
  {
   "cell_type": "markdown",
   "metadata": {},
   "source": [
    "### numeros"
   ]
  },
  {
   "cell_type": "code",
   "execution_count": 11,
   "metadata": {},
   "outputs": [
    {
     "name": "stdout",
     "output_type": "stream",
     "text": [
      "2379.73\n",
      "2379.7273\n",
      "2379.7\n",
      "2380\n"
     ]
    }
   ],
   "source": [
    "print (f\"{numero:.2f}\")\n",
    "print (f\"{numero:.4f}\")\n",
    "print (f\"{numero:.1f}\")\n",
    "print (f\"{numero:.0f}\")"
   ]
  },
  {
   "cell_type": "code",
   "execution_count": 12,
   "metadata": {},
   "outputs": [
    {
     "name": "stdout",
     "output_type": "stream",
     "text": [
      "23.72%\n",
      "23.7220%\n",
      "23.7%\n",
      "24%\n"
     ]
    }
   ],
   "source": [
    "print (f\"{porcentaje:.2%}\")\n",
    "print (f\"{porcentaje:.4%}\")\n",
    "print (f\"{porcentaje:.1%}\")\n",
    "print (f\"{porcentaje:.0%}\")"
   ]
  },
  {
   "cell_type": "markdown",
   "metadata": {},
   "source": [
    "### notación científica"
   ]
  },
  {
   "cell_type": "code",
   "execution_count": 21,
   "metadata": {},
   "outputs": [
    {
     "name": "stdout",
     "output_type": "stream",
     "text": [
      "1e+06\n",
      "1.00e+06\n",
      "1.0000000000e+06\n",
      "1e+06\n",
      "1.33e+06\n",
      "1.3288930000e+06\n"
     ]
    }
   ],
   "source": [
    "numero_grande: int = 1_000_000\n",
    "print (f\"{numero_grande:.0e}\")\n",
    "print (f\"{numero_grande:.2e}\")\n",
    "print (f\"{numero_grande:.10e}\")\n",
    "\n",
    "numero_grande: int = 1_328_893\n",
    "print (f\"{numero_grande:.0e}\")\n",
    "print (f\"{numero_grande:.2e}\")\n",
    "print (f\"{numero_grande:.10e}\")\n"
   ]
  },
  {
   "cell_type": "markdown",
   "metadata": {},
   "source": [
    "### fechas"
   ]
  },
  {
   "cell_type": "code",
   "execution_count": 29,
   "metadata": {},
   "outputs": [
    {
     "name": "stdout",
     "output_type": "stream",
     "text": [
      "01 10 2020\n",
      "01-10-2020\n",
      "01/10/2020 10:22:::::34\n"
     ]
    }
   ],
   "source": [
    "from datetime import datetime\n",
    "ahora = datetime(2020,10,1,10,22,34)\n",
    "\n",
    "print (f\"{ahora:%d %m %Y}\")\n",
    "print (f\"{ahora:%d-%m-%Y}\")\n",
    "print (f\"{ahora:%d/%m/%Y %H:%M:::::%S}\")"
   ]
  },
  {
   "cell_type": "markdown",
   "metadata": {},
   "source": [
    "### otros"
   ]
  },
  {
   "cell_type": "code",
   "execution_count": 27,
   "metadata": {},
   "outputs": [
    {
     "name": "stdout",
     "output_type": "stream",
     "text": [
      "       100\n"
     ]
    }
   ],
   "source": [
    "numero = 100\n",
    "otronumero = 10\n",
    "\n",
    "print (f'{numero:>{otronumero}}')"
   ]
  },
  {
   "cell_type": "code",
   "execution_count": null,
   "metadata": {},
   "outputs": [],
   "source": []
  }
 ],
 "metadata": {
  "kernelspec": {
   "display_name": "Python 3.11.0 64-bit ('3.11.0')",
   "language": "python",
   "name": "python3"
  },
  "language_info": {
   "codemirror_mode": {
    "name": "ipython",
    "version": 3
   },
   "file_extension": ".py",
   "mimetype": "text/x-python",
   "name": "python",
   "nbconvert_exporter": "python",
   "pygments_lexer": "ipython3",
   "version": "3.11.0"
  },
  "orig_nbformat": 4,
  "vscode": {
   "interpreter": {
    "hash": "211026dce1e7ac162a134d72f9ed00dc0eec95aa1aed0ec61279d0aeb17c1116"
   }
  }
 },
 "nbformat": 4,
 "nbformat_minor": 2
}
